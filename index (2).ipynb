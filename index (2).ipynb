{
 "cells": [
  {
   "cell_type": "code",
   "execution_count": 1,
   "metadata": {
    "id": "05fCSQ2Nju4F"
   },
   "outputs": [],
   "source": [
    "#Text preprocessing. Cleaning/ preparing data.\n",
    "#Tokenization. Dividing sentences into words.\n",
    "#Stopword removal. Removing irrelevant words.\n",
    "#Stemming & Lemmatization. Reducing words to base form; Grammar\n",
    "#Named Entry recognition. Extract names , places . dates\n",
    "#Text Vectorisation. # Convert text to Numbers.\n",
    "# modelling. Create your model."
   ]
  },
  {
   "cell_type": "code",
   "execution_count": 2,
   "metadata": {
    "id": "b54CpIOit05k"
   },
   "outputs": [],
   "source": [
    "# Import necessary libraries.\n",
    "import pandas as pd\n",
    "import string\n",
    "import re\n",
    "import nltk\n",
    "from nltk.tokenize import word_tokenize\n",
    "from nltk.corpus import stopwords\n",
    "from nltk.stem import WordNetLemmatizer\n",
    "from nltk import PorterStemmer\n",
    "from sklearn.feature_extraction.text import CountVectorizer\n",
    "from sklearn.model_selection import train_test_split\n",
    "from sklearn.naive_bayes import MultinomialNB\n",
    "from sklearn.metrics import accuracy_score, classification_report\n",
    "\n"
   ]
  },
  {
   "cell_type": "code",
   "execution_count": 3,
   "metadata": {
    "id": "gIxlReKNzuCZ"
   },
   "outputs": [],
   "source": [
    "data = pd.read_csv('Twitter_Data.csv')"
   ]
  },
  {
   "cell_type": "code",
   "execution_count": 4,
   "metadata": {
    "colab": {
     "base_uri": "https://localhost:8080/",
     "height": 206
    },
    "id": "1aba0842",
    "outputId": "60a37d3c-cd47-4816-89af-e3498b6dc5be"
   },
   "outputs": [
    {
     "data": {
      "text/html": [
       "<div>\n",
       "<style scoped>\n",
       "    .dataframe tbody tr th:only-of-type {\n",
       "        vertical-align: middle;\n",
       "    }\n",
       "\n",
       "    .dataframe tbody tr th {\n",
       "        vertical-align: top;\n",
       "    }\n",
       "\n",
       "    .dataframe thead th {\n",
       "        text-align: right;\n",
       "    }\n",
       "</style>\n",
       "<table border=\"1\" class=\"dataframe\">\n",
       "  <thead>\n",
       "    <tr style=\"text-align: right;\">\n",
       "      <th></th>\n",
       "      <th>clean_text</th>\n",
       "      <th>category</th>\n",
       "    </tr>\n",
       "  </thead>\n",
       "  <tbody>\n",
       "    <tr>\n",
       "      <th>0</th>\n",
       "      <td>when modi promised “minimum government maximum...</td>\n",
       "      <td>-1.0</td>\n",
       "    </tr>\n",
       "    <tr>\n",
       "      <th>1</th>\n",
       "      <td>talk all the nonsense and continue all the dra...</td>\n",
       "      <td>0.0</td>\n",
       "    </tr>\n",
       "    <tr>\n",
       "      <th>2</th>\n",
       "      <td>what did just say vote for modi  welcome bjp t...</td>\n",
       "      <td>1.0</td>\n",
       "    </tr>\n",
       "    <tr>\n",
       "      <th>3</th>\n",
       "      <td>asking his supporters prefix chowkidar their n...</td>\n",
       "      <td>1.0</td>\n",
       "    </tr>\n",
       "    <tr>\n",
       "      <th>4</th>\n",
       "      <td>answer who among these the most powerful world...</td>\n",
       "      <td>1.0</td>\n",
       "    </tr>\n",
       "  </tbody>\n",
       "</table>\n",
       "</div>"
      ],
      "text/plain": [
       "                                          clean_text  category\n",
       "0  when modi promised “minimum government maximum...      -1.0\n",
       "1  talk all the nonsense and continue all the dra...       0.0\n",
       "2  what did just say vote for modi  welcome bjp t...       1.0\n",
       "3  asking his supporters prefix chowkidar their n...       1.0\n",
       "4  answer who among these the most powerful world...       1.0"
      ]
     },
     "metadata": {},
     "output_type": "display_data"
    }
   ],
   "source": [
    "display(data.head())"
   ]
  },
  {
   "cell_type": "code",
   "execution_count": 5,
   "metadata": {
    "colab": {
     "base_uri": "https://localhost:8080/",
     "height": 206
    },
    "id": "wct2lc6U1BWA",
    "outputId": "c9883530-ed7b-401e-85d9-2d542b1aa214"
   },
   "outputs": [
    {
     "data": {
      "text/html": [
       "<div>\n",
       "<style scoped>\n",
       "    .dataframe tbody tr th:only-of-type {\n",
       "        vertical-align: middle;\n",
       "    }\n",
       "\n",
       "    .dataframe tbody tr th {\n",
       "        vertical-align: top;\n",
       "    }\n",
       "\n",
       "    .dataframe thead th {\n",
       "        text-align: right;\n",
       "    }\n",
       "</style>\n",
       "<table border=\"1\" class=\"dataframe\">\n",
       "  <thead>\n",
       "    <tr style=\"text-align: right;\">\n",
       "      <th></th>\n",
       "      <th>clean_text</th>\n",
       "      <th>category</th>\n",
       "    </tr>\n",
       "  </thead>\n",
       "  <tbody>\n",
       "    <tr>\n",
       "      <th>0</th>\n",
       "      <td>when modi promised minimum government maximum ...</td>\n",
       "      <td>-1.0</td>\n",
       "    </tr>\n",
       "    <tr>\n",
       "      <th>1</th>\n",
       "      <td>talk all the nonsense and continue all the dra...</td>\n",
       "      <td>0.0</td>\n",
       "    </tr>\n",
       "    <tr>\n",
       "      <th>2</th>\n",
       "      <td>what did just say vote for modi  welcome bjp t...</td>\n",
       "      <td>1.0</td>\n",
       "    </tr>\n",
       "    <tr>\n",
       "      <th>3</th>\n",
       "      <td>asking his supporters prefix chowkidar their n...</td>\n",
       "      <td>1.0</td>\n",
       "    </tr>\n",
       "    <tr>\n",
       "      <th>4</th>\n",
       "      <td>answer who among these the most powerful world...</td>\n",
       "      <td>1.0</td>\n",
       "    </tr>\n",
       "  </tbody>\n",
       "</table>\n",
       "</div>"
      ],
      "text/plain": [
       "                                          clean_text  category\n",
       "0  when modi promised minimum government maximum ...      -1.0\n",
       "1  talk all the nonsense and continue all the dra...       0.0\n",
       "2  what did just say vote for modi  welcome bjp t...       1.0\n",
       "3  asking his supporters prefix chowkidar their n...       1.0\n",
       "4  answer who among these the most powerful world...       1.0"
      ]
     },
     "execution_count": 5,
     "metadata": {},
     "output_type": "execute_result"
    }
   ],
   "source": [
    "#Step 1; Text Preprocessing.\n",
    "#Drop missing rows.\n",
    "data.dropna(inplace=True)\n",
    "\n",
    "# Convert texts to lowercase.\n",
    "type(data['clean_text'])\n",
    "data['clean_text']= data['clean_text'].astype(str)\n",
    "data['clean_text'] = data['clean_text'].str.lower()\n",
    "\n",
    "#Remove symbols.\n",
    "def clean_text(text):\n",
    "   text = re.sub(r'http\\S+|www.\\S+', '', text) #Remove Urls.\n",
    "   text = re.sub(r'@\\w+|#\\w+', '', text) #Remove mentions and hashtags.\n",
    "   text = re.sub(r'\\d+', '', text) #Remove digits.\n",
    "   text = re.sub(r'[^\\w\\s]', '', text) #Remove punctuation.\n",
    "   return text\n",
    "\n",
    "data['clean_text'] = data['clean_text'].apply(clean_text)\n",
    "data.head()"
   ]
  },
  {
   "cell_type": "code",
   "execution_count": 6,
   "metadata": {},
   "outputs": [
    {
     "name": "stderr",
     "output_type": "stream",
     "text": [
      "[nltk_data] Downloading package punkt to\n",
      "[nltk_data]     C:\\Users\\CRIS\\AppData\\Roaming\\nltk_data...\n",
      "[nltk_data]   Package punkt is already up-to-date!\n"
     ]
    },
    {
     "data": {
      "text/html": [
       "<div>\n",
       "<style scoped>\n",
       "    .dataframe tbody tr th:only-of-type {\n",
       "        vertical-align: middle;\n",
       "    }\n",
       "\n",
       "    .dataframe tbody tr th {\n",
       "        vertical-align: top;\n",
       "    }\n",
       "\n",
       "    .dataframe thead th {\n",
       "        text-align: right;\n",
       "    }\n",
       "</style>\n",
       "<table border=\"1\" class=\"dataframe\">\n",
       "  <thead>\n",
       "    <tr style=\"text-align: right;\">\n",
       "      <th></th>\n",
       "      <th>clean_text</th>\n",
       "      <th>category</th>\n",
       "      <th>tokens</th>\n",
       "    </tr>\n",
       "  </thead>\n",
       "  <tbody>\n",
       "    <tr>\n",
       "      <th>0</th>\n",
       "      <td>when modi promised minimum government maximum ...</td>\n",
       "      <td>-1.0</td>\n",
       "      <td>[when, modi, promised, minimum, government, ma...</td>\n",
       "    </tr>\n",
       "    <tr>\n",
       "      <th>1</th>\n",
       "      <td>talk all the nonsense and continue all the dra...</td>\n",
       "      <td>0.0</td>\n",
       "      <td>[talk, all, the, nonsense, and, continue, all,...</td>\n",
       "    </tr>\n",
       "    <tr>\n",
       "      <th>2</th>\n",
       "      <td>what did just say vote for modi  welcome bjp t...</td>\n",
       "      <td>1.0</td>\n",
       "      <td>[what, did, just, say, vote, for, modi, welcom...</td>\n",
       "    </tr>\n",
       "    <tr>\n",
       "      <th>3</th>\n",
       "      <td>asking his supporters prefix chowkidar their n...</td>\n",
       "      <td>1.0</td>\n",
       "      <td>[asking, his, supporters, prefix, chowkidar, t...</td>\n",
       "    </tr>\n",
       "    <tr>\n",
       "      <th>4</th>\n",
       "      <td>answer who among these the most powerful world...</td>\n",
       "      <td>1.0</td>\n",
       "      <td>[answer, who, among, these, the, most, powerfu...</td>\n",
       "    </tr>\n",
       "  </tbody>\n",
       "</table>\n",
       "</div>"
      ],
      "text/plain": [
       "                                          clean_text  category  \\\n",
       "0  when modi promised minimum government maximum ...      -1.0   \n",
       "1  talk all the nonsense and continue all the dra...       0.0   \n",
       "2  what did just say vote for modi  welcome bjp t...       1.0   \n",
       "3  asking his supporters prefix chowkidar their n...       1.0   \n",
       "4  answer who among these the most powerful world...       1.0   \n",
       "\n",
       "                                              tokens  \n",
       "0  [when, modi, promised, minimum, government, ma...  \n",
       "1  [talk, all, the, nonsense, and, continue, all,...  \n",
       "2  [what, did, just, say, vote, for, modi, welcom...  \n",
       "3  [asking, his, supporters, prefix, chowkidar, t...  \n",
       "4  [answer, who, among, these, the, most, powerfu...  "
      ]
     },
     "execution_count": 6,
     "metadata": {},
     "output_type": "execute_result"
    }
   ],
   "source": [
    "# Step 2; Tokenization\n",
    "#Download tokenizer model\n",
    "nltk.download('punkt')\n",
    "\n",
    "# Create to process clean_text\n",
    "class TextProcessing:\n",
    "  def __init__(self,column):\n",
    "    self.column = column\n",
    "\n",
    "  def tokenizeText(self, text):\n",
    "    return word_tokenize(str(text))\n",
    "  \n",
    "  def apply(self, df):\n",
    "    df['tokens'] = df[self.column].map(self.tokenizeText)\n",
    "    return df\n",
    "  \n",
    "# Apply tokenization on column 'clean_text'\n",
    "processor = TextProcessing(column='clean_text')\n",
    "data = processor.apply(data)\n",
    "\n",
    "data.head()"
   ]
  },
  {
   "cell_type": "code",
   "execution_count": 7,
   "metadata": {
    "id": "b11c620e"
   },
   "outputs": [
    {
     "data": {
      "text/html": [
       "<div>\n",
       "<style scoped>\n",
       "    .dataframe tbody tr th:only-of-type {\n",
       "        vertical-align: middle;\n",
       "    }\n",
       "\n",
       "    .dataframe tbody tr th {\n",
       "        vertical-align: top;\n",
       "    }\n",
       "\n",
       "    .dataframe thead th {\n",
       "        text-align: right;\n",
       "    }\n",
       "</style>\n",
       "<table border=\"1\" class=\"dataframe\">\n",
       "  <thead>\n",
       "    <tr style=\"text-align: right;\">\n",
       "      <th></th>\n",
       "      <th>clean_text</th>\n",
       "      <th>category</th>\n",
       "      <th>tokens</th>\n",
       "    </tr>\n",
       "  </thead>\n",
       "  <tbody>\n",
       "    <tr>\n",
       "      <th>0</th>\n",
       "      <td>when modi promised minimum government maximum ...</td>\n",
       "      <td>-1.0</td>\n",
       "      <td>[when, modi, promised, minimum, government, ma...</td>\n",
       "    </tr>\n",
       "    <tr>\n",
       "      <th>1</th>\n",
       "      <td>talk all the nonsense and continue all the dra...</td>\n",
       "      <td>0.0</td>\n",
       "      <td>[talk, all, the, nonsense, and, continue, all,...</td>\n",
       "    </tr>\n",
       "    <tr>\n",
       "      <th>2</th>\n",
       "      <td>what did just say vote for modi  welcome bjp t...</td>\n",
       "      <td>1.0</td>\n",
       "      <td>[what, did, just, say, vote, for, modi, welcom...</td>\n",
       "    </tr>\n",
       "    <tr>\n",
       "      <th>3</th>\n",
       "      <td>asking his supporters prefix chowkidar their n...</td>\n",
       "      <td>1.0</td>\n",
       "      <td>[asking, his, supporters, prefix, chowkidar, t...</td>\n",
       "    </tr>\n",
       "    <tr>\n",
       "      <th>4</th>\n",
       "      <td>answer who among these the most powerful world...</td>\n",
       "      <td>1.0</td>\n",
       "      <td>[answer, who, among, these, the, most, powerfu...</td>\n",
       "    </tr>\n",
       "  </tbody>\n",
       "</table>\n",
       "</div>"
      ],
      "text/plain": [
       "                                          clean_text  category  \\\n",
       "0  when modi promised minimum government maximum ...      -1.0   \n",
       "1  talk all the nonsense and continue all the dra...       0.0   \n",
       "2  what did just say vote for modi  welcome bjp t...       1.0   \n",
       "3  asking his supporters prefix chowkidar their n...       1.0   \n",
       "4  answer who among these the most powerful world...       1.0   \n",
       "\n",
       "                                              tokens  \n",
       "0  [when, modi, promised, minimum, government, ma...  \n",
       "1  [talk, all, the, nonsense, and, continue, all,...  \n",
       "2  [what, did, just, say, vote, for, modi, welcom...  \n",
       "3  [asking, his, supporters, prefix, chowkidar, t...  \n",
       "4  [answer, who, among, these, the, most, powerfu...  "
      ]
     },
     "metadata": {},
     "output_type": "display_data"
    }
   ],
   "source": [
    "display(data.head())"
   ]
  },
  {
   "cell_type": "code",
   "execution_count": 21,
   "metadata": {},
   "outputs": [
    {
     "name": "stderr",
     "output_type": "stream",
     "text": [
      "[nltk_data] Downloading package stopwords to\n",
      "[nltk_data]     C:\\Users\\CRIS\\AppData\\Roaming\\nltk_data...\n",
      "[nltk_data]   Package stopwords is already up-to-date!\n"
     ]
    },
    {
     "data": {
      "text/plain": [
       "0         [modi, promised, minimum, government, maximum,...\n",
       "1             [talk, nonsense, continue, drama, vote, modi]\n",
       "2         [say, vote, modi, welcome, bjp, told, rahul, m...\n",
       "3         [asking, supporters, prefix, chowkidar, names,...\n",
       "4         [answer, among, powerful, world, leader, today...\n",
       "                                ...                        \n",
       "162975    [crores, paid, neerav, modi, recovered, congre...\n",
       "162976    [dear, rss, terrorist, payal, gawar, modi, kil...\n",
       "162977                    [cover, interaction, forum, left]\n",
       "162978    [big, project, came, india, modi, dream, proje...\n",
       "162979    [ever, listen, like, gurukul, discipline, main...\n",
       "Name: stopword_tokens, Length: 162969, dtype: object"
      ]
     },
     "execution_count": 21,
     "metadata": {},
     "output_type": "execute_result"
    }
   ],
   "source": [
    "# Step 3: Removing Stopwords\n",
    "# Downloading stopwords\n",
    "nltk.download('stopwords')\n",
    "\n",
    "#defining english stopwords\n",
    "english_stopwords = set(stopwords.words('english'))\n",
    "                        \n",
    "#Function to remove the stopwords\n",
    "def remove_stopwords(row_tokens):\n",
    "    cleaned = []\n",
    "    for word in row_tokens:\n",
    "        if word not in english_stopwords:\n",
    "            cleaned.append(word)\n",
    "    return cleaned\n",
    "\n",
    "# applying the function to the data \n",
    "data['stopword_tokens'] = data['tokens'].apply(remove_stopwords)\n",
    "data['stopword_tokens']"
   ]
  },
  {
   "cell_type": "code",
   "execution_count": 22,
   "metadata": {},
   "outputs": [
    {
     "data": {
      "text/html": [
       "<div>\n",
       "<style scoped>\n",
       "    .dataframe tbody tr th:only-of-type {\n",
       "        vertical-align: middle;\n",
       "    }\n",
       "\n",
       "    .dataframe tbody tr th {\n",
       "        vertical-align: top;\n",
       "    }\n",
       "\n",
       "    .dataframe thead th {\n",
       "        text-align: right;\n",
       "    }\n",
       "</style>\n",
       "<table border=\"1\" class=\"dataframe\">\n",
       "  <thead>\n",
       "    <tr style=\"text-align: right;\">\n",
       "      <th></th>\n",
       "      <th>clean_text</th>\n",
       "      <th>category</th>\n",
       "      <th>tokens</th>\n",
       "      <th>stopword_tokens</th>\n",
       "    </tr>\n",
       "  </thead>\n",
       "  <tbody>\n",
       "    <tr>\n",
       "      <th>0</th>\n",
       "      <td>when modi promised minimum government maximum ...</td>\n",
       "      <td>-1.0</td>\n",
       "      <td>[modi, promised, minimum, government, maximum,...</td>\n",
       "      <td>[modi, promised, minimum, government, maximum,...</td>\n",
       "    </tr>\n",
       "    <tr>\n",
       "      <th>1</th>\n",
       "      <td>talk all the nonsense and continue all the dra...</td>\n",
       "      <td>0.0</td>\n",
       "      <td>[talk, nonsense, continue, drama, vote, modi]</td>\n",
       "      <td>[talk, nonsense, continue, drama, vote, modi]</td>\n",
       "    </tr>\n",
       "    <tr>\n",
       "      <th>2</th>\n",
       "      <td>what did just say vote for modi  welcome bjp t...</td>\n",
       "      <td>1.0</td>\n",
       "      <td>[say, vote, modi, welcome, bjp, told, rahul, m...</td>\n",
       "      <td>[say, vote, modi, welcome, bjp, told, rahul, m...</td>\n",
       "    </tr>\n",
       "    <tr>\n",
       "      <th>3</th>\n",
       "      <td>asking his supporters prefix chowkidar their n...</td>\n",
       "      <td>1.0</td>\n",
       "      <td>[asking, supporters, prefix, chowkidar, names,...</td>\n",
       "      <td>[asking, supporters, prefix, chowkidar, names,...</td>\n",
       "    </tr>\n",
       "    <tr>\n",
       "      <th>4</th>\n",
       "      <td>answer who among these the most powerful world...</td>\n",
       "      <td>1.0</td>\n",
       "      <td>[answer, among, powerful, world, leader, today...</td>\n",
       "      <td>[answer, among, powerful, world, leader, today...</td>\n",
       "    </tr>\n",
       "  </tbody>\n",
       "</table>\n",
       "</div>"
      ],
      "text/plain": [
       "                                          clean_text  category  \\\n",
       "0  when modi promised minimum government maximum ...      -1.0   \n",
       "1  talk all the nonsense and continue all the dra...       0.0   \n",
       "2  what did just say vote for modi  welcome bjp t...       1.0   \n",
       "3  asking his supporters prefix chowkidar their n...       1.0   \n",
       "4  answer who among these the most powerful world...       1.0   \n",
       "\n",
       "                                              tokens  \\\n",
       "0  [modi, promised, minimum, government, maximum,...   \n",
       "1      [talk, nonsense, continue, drama, vote, modi]   \n",
       "2  [say, vote, modi, welcome, bjp, told, rahul, m...   \n",
       "3  [asking, supporters, prefix, chowkidar, names,...   \n",
       "4  [answer, among, powerful, world, leader, today...   \n",
       "\n",
       "                                     stopword_tokens  \n",
       "0  [modi, promised, minimum, government, maximum,...  \n",
       "1      [talk, nonsense, continue, drama, vote, modi]  \n",
       "2  [say, vote, modi, welcome, bjp, told, rahul, m...  \n",
       "3  [asking, supporters, prefix, chowkidar, names,...  \n",
       "4  [answer, among, powerful, world, leader, today...  "
      ]
     },
     "execution_count": 22,
     "metadata": {},
     "output_type": "execute_result"
    }
   ],
   "source": [
    "data.head()"
   ]
  },
  {
   "cell_type": "code",
   "execution_count": 23,
   "metadata": {},
   "outputs": [
    {
     "name": "stderr",
     "output_type": "stream",
     "text": [
      "[nltk_data] Downloading package wordnet to\n",
      "[nltk_data]     C:\\Users\\CRIS\\AppData\\Roaming\\nltk_data...\n",
      "[nltk_data]   Package wordnet is already up-to-date!\n"
     ]
    }
   ],
   "source": [
    "#Step 4: Lemmatizing texts\n",
    "nltk.download('wordnet')\n",
    "\n",
    "# Defining the lemmatizer\n",
    "lemmatizer = WordNetLemmatizer()\n",
    "\n",
    "# Function forlemmatizing the text\n",
    "def lemmatize_tokens(tokens):\n",
    "    lemmatized_tokens = [lemmatizer.lemmatize(word) for word in tokens]\n",
    "    return lemmatized_tokens\n",
    "\n",
    "data['lemmatized_tokens'] = data['stopword_tokens'].apply(lemmatize_tokens)"
   ]
  },
  {
   "cell_type": "code",
   "execution_count": 24,
   "metadata": {},
   "outputs": [
    {
     "data": {
      "text/html": [
       "<div>\n",
       "<style scoped>\n",
       "    .dataframe tbody tr th:only-of-type {\n",
       "        vertical-align: middle;\n",
       "    }\n",
       "\n",
       "    .dataframe tbody tr th {\n",
       "        vertical-align: top;\n",
       "    }\n",
       "\n",
       "    .dataframe thead th {\n",
       "        text-align: right;\n",
       "    }\n",
       "</style>\n",
       "<table border=\"1\" class=\"dataframe\">\n",
       "  <thead>\n",
       "    <tr style=\"text-align: right;\">\n",
       "      <th></th>\n",
       "      <th>clean_text</th>\n",
       "      <th>category</th>\n",
       "      <th>tokens</th>\n",
       "      <th>stopword_tokens</th>\n",
       "      <th>lemmatized_tokens</th>\n",
       "    </tr>\n",
       "  </thead>\n",
       "  <tbody>\n",
       "    <tr>\n",
       "      <th>0</th>\n",
       "      <td>when modi promised minimum government maximum ...</td>\n",
       "      <td>-1.0</td>\n",
       "      <td>[modi, promised, minimum, government, maximum,...</td>\n",
       "      <td>[modi, promised, minimum, government, maximum,...</td>\n",
       "      <td>[modi, promised, minimum, government, maximum,...</td>\n",
       "    </tr>\n",
       "    <tr>\n",
       "      <th>1</th>\n",
       "      <td>talk all the nonsense and continue all the dra...</td>\n",
       "      <td>0.0</td>\n",
       "      <td>[talk, nonsense, continue, drama, vote, modi]</td>\n",
       "      <td>[talk, nonsense, continue, drama, vote, modi]</td>\n",
       "      <td>[talk, nonsense, continue, drama, vote, modi]</td>\n",
       "    </tr>\n",
       "    <tr>\n",
       "      <th>2</th>\n",
       "      <td>what did just say vote for modi  welcome bjp t...</td>\n",
       "      <td>1.0</td>\n",
       "      <td>[say, vote, modi, welcome, bjp, told, rahul, m...</td>\n",
       "      <td>[say, vote, modi, welcome, bjp, told, rahul, m...</td>\n",
       "      <td>[say, vote, modi, welcome, bjp, told, rahul, m...</td>\n",
       "    </tr>\n",
       "    <tr>\n",
       "      <th>3</th>\n",
       "      <td>asking his supporters prefix chowkidar their n...</td>\n",
       "      <td>1.0</td>\n",
       "      <td>[asking, supporters, prefix, chowkidar, names,...</td>\n",
       "      <td>[asking, supporters, prefix, chowkidar, names,...</td>\n",
       "      <td>[asking, supporter, prefix, chowkidar, name, m...</td>\n",
       "    </tr>\n",
       "    <tr>\n",
       "      <th>4</th>\n",
       "      <td>answer who among these the most powerful world...</td>\n",
       "      <td>1.0</td>\n",
       "      <td>[answer, among, powerful, world, leader, today...</td>\n",
       "      <td>[answer, among, powerful, world, leader, today...</td>\n",
       "      <td>[answer, among, powerful, world, leader, today...</td>\n",
       "    </tr>\n",
       "  </tbody>\n",
       "</table>\n",
       "</div>"
      ],
      "text/plain": [
       "                                          clean_text  category  \\\n",
       "0  when modi promised minimum government maximum ...      -1.0   \n",
       "1  talk all the nonsense and continue all the dra...       0.0   \n",
       "2  what did just say vote for modi  welcome bjp t...       1.0   \n",
       "3  asking his supporters prefix chowkidar their n...       1.0   \n",
       "4  answer who among these the most powerful world...       1.0   \n",
       "\n",
       "                                              tokens  \\\n",
       "0  [modi, promised, minimum, government, maximum,...   \n",
       "1      [talk, nonsense, continue, drama, vote, modi]   \n",
       "2  [say, vote, modi, welcome, bjp, told, rahul, m...   \n",
       "3  [asking, supporters, prefix, chowkidar, names,...   \n",
       "4  [answer, among, powerful, world, leader, today...   \n",
       "\n",
       "                                     stopword_tokens  \\\n",
       "0  [modi, promised, minimum, government, maximum,...   \n",
       "1      [talk, nonsense, continue, drama, vote, modi]   \n",
       "2  [say, vote, modi, welcome, bjp, told, rahul, m...   \n",
       "3  [asking, supporters, prefix, chowkidar, names,...   \n",
       "4  [answer, among, powerful, world, leader, today...   \n",
       "\n",
       "                                   lemmatized_tokens  \n",
       "0  [modi, promised, minimum, government, maximum,...  \n",
       "1      [talk, nonsense, continue, drama, vote, modi]  \n",
       "2  [say, vote, modi, welcome, bjp, told, rahul, m...  \n",
       "3  [asking, supporter, prefix, chowkidar, name, m...  \n",
       "4  [answer, among, powerful, world, leader, today...  "
      ]
     },
     "execution_count": 24,
     "metadata": {},
     "output_type": "execute_result"
    }
   ],
   "source": [
    "data.head()"
   ]
  }
 ],
 "metadata": {
  "colab": {
   "provenance": []
  },
  "kernelspec": {
   "display_name": "learn-env",
   "language": "python",
   "name": "python3"
  },
  "language_info": {
   "codemirror_mode": {
    "name": "ipython",
    "version": 3
   },
   "file_extension": ".py",
   "mimetype": "text/x-python",
   "name": "python",
   "nbconvert_exporter": "python",
   "pygments_lexer": "ipython3",
   "version": "3.8.5"
  }
 },
 "nbformat": 4,
 "nbformat_minor": 4
}
